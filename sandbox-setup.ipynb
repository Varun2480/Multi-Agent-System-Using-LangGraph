{
 "cells": [
  {
   "cell_type": "code",
   "execution_count": 2,
   "id": "bfc31aab",
   "metadata": {},
   "outputs": [
    {
     "name": "stdout",
     "output_type": "stream",
     "text": [
      "Collecting langchain-sandbox\n",
      "  Obtaining dependency information for langchain-sandbox from https://files.pythonhosted.org/packages/be/e4/503a0939e777ee1cef207d0d32e6b66660447f81bd4f9c7dfb00b5538325/langchain_sandbox-0.0.6-py3-none-any.whl.metadata\n",
      "  Downloading langchain_sandbox-0.0.6-py3-none-any.whl.metadata (6.5 kB)\n",
      "Requirement already satisfied: langchain-core<0.4.0,>=0.3.56 in c:\\users\\10685464\\onedrive - ltimindtree\\desktop\\poc's\\multi-agent-langgraph\\venv_multiagent\\lib\\site-packages (from langchain-sandbox) (0.3.65)\n",
      "Requirement already satisfied: langgraph>=0.4.3 in c:\\users\\10685464\\onedrive - ltimindtree\\desktop\\poc's\\multi-agent-langgraph\\venv_multiagent\\lib\\site-packages (from langchain-sandbox) (0.4.8)\n",
      "Requirement already satisfied: langsmith<0.4,>=0.3.45 in c:\\users\\10685464\\onedrive - ltimindtree\\desktop\\poc's\\multi-agent-langgraph\\venv_multiagent\\lib\\site-packages (from langchain-core<0.4.0,>=0.3.56->langchain-sandbox) (0.3.45)\n",
      "Requirement already satisfied: tenacity!=8.4.0,<10.0.0,>=8.1.0 in c:\\users\\10685464\\onedrive - ltimindtree\\desktop\\poc's\\multi-agent-langgraph\\venv_multiagent\\lib\\site-packages (from langchain-core<0.4.0,>=0.3.56->langchain-sandbox) (8.5.0)\n",
      "Requirement already satisfied: jsonpatch<2.0,>=1.33 in c:\\users\\10685464\\onedrive - ltimindtree\\desktop\\poc's\\multi-agent-langgraph\\venv_multiagent\\lib\\site-packages (from langchain-core<0.4.0,>=0.3.56->langchain-sandbox) (1.33)\n",
      "Requirement already satisfied: PyYAML>=5.3 in c:\\users\\10685464\\onedrive - ltimindtree\\desktop\\poc's\\multi-agent-langgraph\\venv_multiagent\\lib\\site-packages (from langchain-core<0.4.0,>=0.3.56->langchain-sandbox) (6.0.2)\n",
      "Requirement already satisfied: packaging<25,>=23.2 in c:\\users\\10685464\\onedrive - ltimindtree\\desktop\\poc's\\multi-agent-langgraph\\venv_multiagent\\lib\\site-packages (from langchain-core<0.4.0,>=0.3.56->langchain-sandbox) (24.2)\n",
      "Requirement already satisfied: typing-extensions>=4.7 in c:\\users\\10685464\\onedrive - ltimindtree\\desktop\\poc's\\multi-agent-langgraph\\venv_multiagent\\lib\\site-packages (from langchain-core<0.4.0,>=0.3.56->langchain-sandbox) (4.14.0)\n",
      "Requirement already satisfied: pydantic>=2.7.4 in c:\\users\\10685464\\onedrive - ltimindtree\\desktop\\poc's\\multi-agent-langgraph\\venv_multiagent\\lib\\site-packages (from langchain-core<0.4.0,>=0.3.56->langchain-sandbox) (2.11.7)\n",
      "Requirement already satisfied: langgraph-checkpoint>=2.0.26 in c:\\users\\10685464\\onedrive - ltimindtree\\desktop\\poc's\\multi-agent-langgraph\\venv_multiagent\\lib\\site-packages (from langgraph>=0.4.3->langchain-sandbox) (2.1.0)\n",
      "Requirement already satisfied: langgraph-prebuilt>=0.2.0 in c:\\users\\10685464\\onedrive - ltimindtree\\desktop\\poc's\\multi-agent-langgraph\\venv_multiagent\\lib\\site-packages (from langgraph>=0.4.3->langchain-sandbox) (0.2.2)\n",
      "Requirement already satisfied: langgraph-sdk>=0.1.42 in c:\\users\\10685464\\onedrive - ltimindtree\\desktop\\poc's\\multi-agent-langgraph\\venv_multiagent\\lib\\site-packages (from langgraph>=0.4.3->langchain-sandbox) (0.1.70)\n",
      "Requirement already satisfied: xxhash>=3.5.0 in c:\\users\\10685464\\onedrive - ltimindtree\\desktop\\poc's\\multi-agent-langgraph\\venv_multiagent\\lib\\site-packages (from langgraph>=0.4.3->langchain-sandbox) (3.5.0)\n",
      "Requirement already satisfied: jsonpointer>=1.9 in c:\\users\\10685464\\onedrive - ltimindtree\\desktop\\poc's\\multi-agent-langgraph\\venv_multiagent\\lib\\site-packages (from jsonpatch<2.0,>=1.33->langchain-core<0.4.0,>=0.3.56->langchain-sandbox) (3.0.0)\n",
      "Requirement already satisfied: ormsgpack>=1.10.0 in c:\\users\\10685464\\onedrive - ltimindtree\\desktop\\poc's\\multi-agent-langgraph\\venv_multiagent\\lib\\site-packages (from langgraph-checkpoint>=2.0.26->langgraph>=0.4.3->langchain-sandbox) (1.10.0)\n",
      "Requirement already satisfied: httpx>=0.25.2 in c:\\users\\10685464\\onedrive - ltimindtree\\desktop\\poc's\\multi-agent-langgraph\\venv_multiagent\\lib\\site-packages (from langgraph-sdk>=0.1.42->langgraph>=0.4.3->langchain-sandbox) (0.28.1)\n",
      "Requirement already satisfied: orjson>=3.10.1 in c:\\users\\10685464\\onedrive - ltimindtree\\desktop\\poc's\\multi-agent-langgraph\\venv_multiagent\\lib\\site-packages (from langgraph-sdk>=0.1.42->langgraph>=0.4.3->langchain-sandbox) (3.10.18)\n",
      "Requirement already satisfied: requests<3,>=2 in c:\\users\\10685464\\onedrive - ltimindtree\\desktop\\poc's\\multi-agent-langgraph\\venv_multiagent\\lib\\site-packages (from langsmith<0.4,>=0.3.45->langchain-core<0.4.0,>=0.3.56->langchain-sandbox) (2.32.4)\n",
      "Requirement already satisfied: requests-toolbelt<2.0.0,>=1.0.0 in c:\\users\\10685464\\onedrive - ltimindtree\\desktop\\poc's\\multi-agent-langgraph\\venv_multiagent\\lib\\site-packages (from langsmith<0.4,>=0.3.45->langchain-core<0.4.0,>=0.3.56->langchain-sandbox) (1.0.0)\n",
      "Requirement already satisfied: zstandard<0.24.0,>=0.23.0 in c:\\users\\10685464\\onedrive - ltimindtree\\desktop\\poc's\\multi-agent-langgraph\\venv_multiagent\\lib\\site-packages (from langsmith<0.4,>=0.3.45->langchain-core<0.4.0,>=0.3.56->langchain-sandbox) (0.23.0)\n",
      "Requirement already satisfied: annotated-types>=0.6.0 in c:\\users\\10685464\\onedrive - ltimindtree\\desktop\\poc's\\multi-agent-langgraph\\venv_multiagent\\lib\\site-packages (from pydantic>=2.7.4->langchain-core<0.4.0,>=0.3.56->langchain-sandbox) (0.7.0)\n",
      "Requirement already satisfied: pydantic-core==2.33.2 in c:\\users\\10685464\\onedrive - ltimindtree\\desktop\\poc's\\multi-agent-langgraph\\venv_multiagent\\lib\\site-packages (from pydantic>=2.7.4->langchain-core<0.4.0,>=0.3.56->langchain-sandbox) (2.33.2)\n",
      "Requirement already satisfied: typing-inspection>=0.4.0 in c:\\users\\10685464\\onedrive - ltimindtree\\desktop\\poc's\\multi-agent-langgraph\\venv_multiagent\\lib\\site-packages (from pydantic>=2.7.4->langchain-core<0.4.0,>=0.3.56->langchain-sandbox) (0.4.1)\n",
      "Requirement already satisfied: anyio in c:\\users\\10685464\\onedrive - ltimindtree\\desktop\\poc's\\multi-agent-langgraph\\venv_multiagent\\lib\\site-packages (from httpx>=0.25.2->langgraph-sdk>=0.1.42->langgraph>=0.4.3->langchain-sandbox) (4.9.0)\n",
      "Requirement already satisfied: certifi in c:\\users\\10685464\\onedrive - ltimindtree\\desktop\\poc's\\multi-agent-langgraph\\venv_multiagent\\lib\\site-packages (from httpx>=0.25.2->langgraph-sdk>=0.1.42->langgraph>=0.4.3->langchain-sandbox) (2025.6.15)\n",
      "Requirement already satisfied: httpcore==1.* in c:\\users\\10685464\\onedrive - ltimindtree\\desktop\\poc's\\multi-agent-langgraph\\venv_multiagent\\lib\\site-packages (from httpx>=0.25.2->langgraph-sdk>=0.1.42->langgraph>=0.4.3->langchain-sandbox) (1.0.9)\n",
      "Requirement already satisfied: idna in c:\\users\\10685464\\onedrive - ltimindtree\\desktop\\poc's\\multi-agent-langgraph\\venv_multiagent\\lib\\site-packages (from httpx>=0.25.2->langgraph-sdk>=0.1.42->langgraph>=0.4.3->langchain-sandbox) (3.10)\n",
      "Requirement already satisfied: h11>=0.16 in c:\\users\\10685464\\onedrive - ltimindtree\\desktop\\poc's\\multi-agent-langgraph\\venv_multiagent\\lib\\site-packages (from httpcore==1.*->httpx>=0.25.2->langgraph-sdk>=0.1.42->langgraph>=0.4.3->langchain-sandbox) (0.16.0)\n",
      "Requirement already satisfied: charset_normalizer<4,>=2 in c:\\users\\10685464\\onedrive - ltimindtree\\desktop\\poc's\\multi-agent-langgraph\\venv_multiagent\\lib\\site-packages (from requests<3,>=2->langsmith<0.4,>=0.3.45->langchain-core<0.4.0,>=0.3.56->langchain-sandbox) (3.4.2)\n",
      "Requirement already satisfied: urllib3<3,>=1.21.1 in c:\\users\\10685464\\onedrive - ltimindtree\\desktop\\poc's\\multi-agent-langgraph\\venv_multiagent\\lib\\site-packages (from requests<3,>=2->langsmith<0.4,>=0.3.45->langchain-core<0.4.0,>=0.3.56->langchain-sandbox) (1.26.20)\n",
      "Requirement already satisfied: sniffio>=1.1 in c:\\users\\10685464\\onedrive - ltimindtree\\desktop\\poc's\\multi-agent-langgraph\\venv_multiagent\\lib\\site-packages (from anyio->httpx>=0.25.2->langgraph-sdk>=0.1.42->langgraph>=0.4.3->langchain-sandbox) (1.3.1)\n",
      "Downloading langchain_sandbox-0.0.6-py3-none-any.whl (9.9 kB)\n",
      "Installing collected packages: langchain-sandbox\n",
      "Successfully installed langchain-sandbox-0.0.6\n",
      "Note: you may need to restart the kernel to use updated packages.\n"
     ]
    },
    {
     "name": "stderr",
     "output_type": "stream",
     "text": [
      "\n",
      "[notice] A new release of pip is available: 23.2.1 -> 25.1.1\n",
      "[notice] To update, run: python.exe -m pip install --upgrade pip\n"
     ]
    }
   ],
   "source": [
    "pip install langchain-sandbox"
   ]
  },
  {
   "cell_type": "code",
   "execution_count": null,
   "id": "4e08c6a8",
   "metadata": {},
   "outputs": [
    {
     "ename": "RuntimeError",
     "evalue": "Deno is not installed or not in PATH.",
     "output_type": "error",
     "traceback": [
      "\u001b[31m---------------------------------------------------------------------------\u001b[39m",
      "\u001b[31mFileNotFoundError\u001b[39m                         Traceback (most recent call last)",
      "\u001b[36mFile \u001b[39m\u001b[32mc:\\Users\\10685464\\OneDrive - LTIMindtree\\Desktop\\POC's\\Multi-Agent-LangGraph\\venv_multiagent\\Lib\\site-packages\\langchain_sandbox\\pyodide.py:168\u001b[39m, in \u001b[36mBasePyodideSandbox.__init__\u001b[39m\u001b[34m(self, stateful, allow_env, allow_read, allow_write, allow_net, allow_run, allow_ffi, node_modules_dir, skip_deno_check)\u001b[39m\n\u001b[32m    167\u001b[39m \u001b[38;5;28;01mtry\u001b[39;00m:\n\u001b[32m--> \u001b[39m\u001b[32m168\u001b[39m     \u001b[43msubprocess\u001b[49m\u001b[43m.\u001b[49m\u001b[43mrun\u001b[49m\u001b[43m(\u001b[49m\u001b[43m[\u001b[49m\u001b[33;43m\"\u001b[39;49m\u001b[33;43mdeno\u001b[39;49m\u001b[33;43m\"\u001b[39;49m\u001b[43m,\u001b[49m\u001b[43m \u001b[49m\u001b[33;43m\"\u001b[39;49m\u001b[33;43m--version\u001b[39;49m\u001b[33;43m\"\u001b[39;49m\u001b[43m]\u001b[49m\u001b[43m,\u001b[49m\u001b[43m \u001b[49m\u001b[43mcheck\u001b[49m\u001b[43m=\u001b[49m\u001b[38;5;28;43;01mTrue\u001b[39;49;00m\u001b[43m,\u001b[49m\u001b[43m \u001b[49m\u001b[43mcapture_output\u001b[49m\u001b[43m=\u001b[49m\u001b[38;5;28;43;01mTrue\u001b[39;49;00m\u001b[43m)\u001b[49m  \u001b[38;5;66;03m# noqa: S607, S603\u001b[39;00m\n\u001b[32m    169\u001b[39m \u001b[38;5;28;01mexcept\u001b[39;00m subprocess.CalledProcessError \u001b[38;5;28;01mas\u001b[39;00m e:\n",
      "\u001b[36mFile \u001b[39m\u001b[32m~\\AppData\\Local\\Programs\\Python\\Python311\\Lib\\subprocess.py:548\u001b[39m, in \u001b[36mrun\u001b[39m\u001b[34m(input, capture_output, timeout, check, *popenargs, **kwargs)\u001b[39m\n\u001b[32m    546\u001b[39m     kwargs[\u001b[33m'\u001b[39m\u001b[33mstderr\u001b[39m\u001b[33m'\u001b[39m] = PIPE\n\u001b[32m--> \u001b[39m\u001b[32m548\u001b[39m \u001b[38;5;28;01mwith\u001b[39;00m \u001b[43mPopen\u001b[49m\u001b[43m(\u001b[49m\u001b[43m*\u001b[49m\u001b[43mpopenargs\u001b[49m\u001b[43m,\u001b[49m\u001b[43m \u001b[49m\u001b[43m*\u001b[49m\u001b[43m*\u001b[49m\u001b[43mkwargs\u001b[49m\u001b[43m)\u001b[49m \u001b[38;5;28;01mas\u001b[39;00m process:\n\u001b[32m    549\u001b[39m     \u001b[38;5;28;01mtry\u001b[39;00m:\n",
      "\u001b[36mFile \u001b[39m\u001b[32m~\\AppData\\Local\\Programs\\Python\\Python311\\Lib\\subprocess.py:1026\u001b[39m, in \u001b[36mPopen.__init__\u001b[39m\u001b[34m(self, args, bufsize, executable, stdin, stdout, stderr, preexec_fn, close_fds, shell, cwd, env, universal_newlines, startupinfo, creationflags, restore_signals, start_new_session, pass_fds, user, group, extra_groups, encoding, errors, text, umask, pipesize, process_group)\u001b[39m\n\u001b[32m   1023\u001b[39m             \u001b[38;5;28mself\u001b[39m.stderr = io.TextIOWrapper(\u001b[38;5;28mself\u001b[39m.stderr,\n\u001b[32m   1024\u001b[39m                     encoding=encoding, errors=errors)\n\u001b[32m-> \u001b[39m\u001b[32m1026\u001b[39m     \u001b[38;5;28;43mself\u001b[39;49m\u001b[43m.\u001b[49m\u001b[43m_execute_child\u001b[49m\u001b[43m(\u001b[49m\u001b[43margs\u001b[49m\u001b[43m,\u001b[49m\u001b[43m \u001b[49m\u001b[43mexecutable\u001b[49m\u001b[43m,\u001b[49m\u001b[43m \u001b[49m\u001b[43mpreexec_fn\u001b[49m\u001b[43m,\u001b[49m\u001b[43m \u001b[49m\u001b[43mclose_fds\u001b[49m\u001b[43m,\u001b[49m\n\u001b[32m   1027\u001b[39m \u001b[43m                        \u001b[49m\u001b[43mpass_fds\u001b[49m\u001b[43m,\u001b[49m\u001b[43m \u001b[49m\u001b[43mcwd\u001b[49m\u001b[43m,\u001b[49m\u001b[43m \u001b[49m\u001b[43menv\u001b[49m\u001b[43m,\u001b[49m\n\u001b[32m   1028\u001b[39m \u001b[43m                        \u001b[49m\u001b[43mstartupinfo\u001b[49m\u001b[43m,\u001b[49m\u001b[43m \u001b[49m\u001b[43mcreationflags\u001b[49m\u001b[43m,\u001b[49m\u001b[43m \u001b[49m\u001b[43mshell\u001b[49m\u001b[43m,\u001b[49m\n\u001b[32m   1029\u001b[39m \u001b[43m                        \u001b[49m\u001b[43mp2cread\u001b[49m\u001b[43m,\u001b[49m\u001b[43m \u001b[49m\u001b[43mp2cwrite\u001b[49m\u001b[43m,\u001b[49m\n\u001b[32m   1030\u001b[39m \u001b[43m                        \u001b[49m\u001b[43mc2pread\u001b[49m\u001b[43m,\u001b[49m\u001b[43m \u001b[49m\u001b[43mc2pwrite\u001b[49m\u001b[43m,\u001b[49m\n\u001b[32m   1031\u001b[39m \u001b[43m                        \u001b[49m\u001b[43merrread\u001b[49m\u001b[43m,\u001b[49m\u001b[43m \u001b[49m\u001b[43merrwrite\u001b[49m\u001b[43m,\u001b[49m\n\u001b[32m   1032\u001b[39m \u001b[43m                        \u001b[49m\u001b[43mrestore_signals\u001b[49m\u001b[43m,\u001b[49m\n\u001b[32m   1033\u001b[39m \u001b[43m                        \u001b[49m\u001b[43mgid\u001b[49m\u001b[43m,\u001b[49m\u001b[43m \u001b[49m\u001b[43mgids\u001b[49m\u001b[43m,\u001b[49m\u001b[43m \u001b[49m\u001b[43muid\u001b[49m\u001b[43m,\u001b[49m\u001b[43m \u001b[49m\u001b[43mumask\u001b[49m\u001b[43m,\u001b[49m\n\u001b[32m   1034\u001b[39m \u001b[43m                        \u001b[49m\u001b[43mstart_new_session\u001b[49m\u001b[43m,\u001b[49m\u001b[43m \u001b[49m\u001b[43mprocess_group\u001b[49m\u001b[43m)\u001b[49m\n\u001b[32m   1035\u001b[39m \u001b[38;5;28;01mexcept\u001b[39;00m:\n\u001b[32m   1036\u001b[39m     \u001b[38;5;66;03m# Cleanup if the child failed starting.\u001b[39;00m\n",
      "\u001b[36mFile \u001b[39m\u001b[32m~\\AppData\\Local\\Programs\\Python\\Python311\\Lib\\subprocess.py:1538\u001b[39m, in \u001b[36mPopen._execute_child\u001b[39m\u001b[34m(self, args, executable, preexec_fn, close_fds, pass_fds, cwd, env, startupinfo, creationflags, shell, p2cread, p2cwrite, c2pread, c2pwrite, errread, errwrite, unused_restore_signals, unused_gid, unused_gids, unused_uid, unused_umask, unused_start_new_session, unused_process_group)\u001b[39m\n\u001b[32m   1537\u001b[39m \u001b[38;5;28;01mtry\u001b[39;00m:\n\u001b[32m-> \u001b[39m\u001b[32m1538\u001b[39m     hp, ht, pid, tid = \u001b[43m_winapi\u001b[49m\u001b[43m.\u001b[49m\u001b[43mCreateProcess\u001b[49m\u001b[43m(\u001b[49m\u001b[43mexecutable\u001b[49m\u001b[43m,\u001b[49m\u001b[43m \u001b[49m\u001b[43margs\u001b[49m\u001b[43m,\u001b[49m\n\u001b[32m   1539\u001b[39m \u001b[43m                             \u001b[49m\u001b[38;5;66;43;03m# no special security\u001b[39;49;00m\n\u001b[32m   1540\u001b[39m \u001b[43m                             \u001b[49m\u001b[38;5;28;43;01mNone\u001b[39;49;00m\u001b[43m,\u001b[49m\u001b[43m \u001b[49m\u001b[38;5;28;43;01mNone\u001b[39;49;00m\u001b[43m,\u001b[49m\n\u001b[32m   1541\u001b[39m \u001b[43m                             \u001b[49m\u001b[38;5;28;43mint\u001b[39;49m\u001b[43m(\u001b[49m\u001b[38;5;129;43;01mnot\u001b[39;49;00m\u001b[43m \u001b[49m\u001b[43mclose_fds\u001b[49m\u001b[43m)\u001b[49m\u001b[43m,\u001b[49m\n\u001b[32m   1542\u001b[39m \u001b[43m                             \u001b[49m\u001b[43mcreationflags\u001b[49m\u001b[43m,\u001b[49m\n\u001b[32m   1543\u001b[39m \u001b[43m                             \u001b[49m\u001b[43menv\u001b[49m\u001b[43m,\u001b[49m\n\u001b[32m   1544\u001b[39m \u001b[43m                             \u001b[49m\u001b[43mcwd\u001b[49m\u001b[43m,\u001b[49m\n\u001b[32m   1545\u001b[39m \u001b[43m                             \u001b[49m\u001b[43mstartupinfo\u001b[49m\u001b[43m)\u001b[49m\n\u001b[32m   1546\u001b[39m \u001b[38;5;28;01mfinally\u001b[39;00m:\n\u001b[32m   1547\u001b[39m     \u001b[38;5;66;03m# Child is launched. Close the parent's copy of those pipe\u001b[39;00m\n\u001b[32m   1548\u001b[39m     \u001b[38;5;66;03m# handles that only the child should have open.  You need\u001b[39;00m\n\u001b[32m   (...)\u001b[39m\u001b[32m   1551\u001b[39m     \u001b[38;5;66;03m# pipe will not close when the child process exits and the\u001b[39;00m\n\u001b[32m   1552\u001b[39m     \u001b[38;5;66;03m# ReadFile will hang.\u001b[39;00m\n",
      "\u001b[31mFileNotFoundError\u001b[39m: [WinError 2] The system cannot find the file specified",
      "\nThe above exception was the direct cause of the following exception:\n",
      "\u001b[31mRuntimeError\u001b[39m                              Traceback (most recent call last)",
      "\u001b[36mCell\u001b[39m\u001b[36m \u001b[39m\u001b[32mIn[4]\u001b[39m\u001b[32m, line 4\u001b[39m\n\u001b[32m      1\u001b[39m \u001b[38;5;28;01mfrom\u001b[39;00m\u001b[38;5;250m \u001b[39m\u001b[34;01mlangchain_sandbox\u001b[39;00m\u001b[38;5;250m \u001b[39m\u001b[38;5;28;01mimport\u001b[39;00m PyodideSandbox\n\u001b[32m      3\u001b[39m \u001b[38;5;66;03m# Create a sandbox instance\u001b[39;00m\n\u001b[32m----> \u001b[39m\u001b[32m4\u001b[39m sandbox = \u001b[43mPyodideSandbox\u001b[49m\u001b[43m(\u001b[49m\n\u001b[32m      5\u001b[39m \u001b[43m    \u001b[49m\u001b[38;5;66;43;03m# Allow Pyodide to install python packages that\u001b[39;49;00m\n\u001b[32m      6\u001b[39m \u001b[43m    \u001b[49m\u001b[38;5;66;43;03m# might be required.\u001b[39;49;00m\n\u001b[32m      7\u001b[39m \u001b[43m    \u001b[49m\u001b[43mallow_net\u001b[49m\u001b[43m=\u001b[49m\u001b[38;5;28;43;01mFalse\u001b[39;49;00m\u001b[43m,\u001b[49m\n\u001b[32m      8\u001b[39m \u001b[43m)\u001b[49m\n\u001b[32m      9\u001b[39m code = \u001b[33m\"\"\"\u001b[39m\u001b[38;5;130;01m\\\u001b[39;00m\n\u001b[32m     10\u001b[39m \u001b[33mimport numpy as np\u001b[39m\n\u001b[32m     11\u001b[39m \u001b[33mx = np.array([1, 2, 3])\u001b[39m\n\u001b[32m     12\u001b[39m \u001b[33mprint(x)\u001b[39m\n\u001b[32m     13\u001b[39m \u001b[33m\"\"\"\u001b[39m\n\u001b[32m     15\u001b[39m \u001b[38;5;66;03m# Execute Python code\u001b[39;00m\n",
      "\u001b[36mFile \u001b[39m\u001b[32mc:\\Users\\10685464\\OneDrive - LTIMindtree\\Desktop\\POC's\\Multi-Agent-LangGraph\\venv_multiagent\\Lib\\site-packages\\langchain_sandbox\\pyodide.py:174\u001b[39m, in \u001b[36mBasePyodideSandbox.__init__\u001b[39m\u001b[34m(self, stateful, allow_env, allow_read, allow_write, allow_net, allow_run, allow_ffi, node_modules_dir, skip_deno_check)\u001b[39m\n\u001b[32m    172\u001b[39m     \u001b[38;5;28;01mexcept\u001b[39;00m \u001b[38;5;167;01mFileNotFoundError\u001b[39;00m \u001b[38;5;28;01mas\u001b[39;00m e:\n\u001b[32m    173\u001b[39m         msg = \u001b[33m\"\u001b[39m\u001b[33mDeno is not installed or not in PATH.\u001b[39m\u001b[33m\"\u001b[39m\n\u001b[32m--> \u001b[39m\u001b[32m174\u001b[39m         \u001b[38;5;28;01mraise\u001b[39;00m \u001b[38;5;167;01mRuntimeError\u001b[39;00m(msg) \u001b[38;5;28;01mfrom\u001b[39;00m\u001b[38;5;250m \u001b[39m\u001b[34;01me\u001b[39;00m\n\u001b[32m    176\u001b[39m \u001b[38;5;66;03m# Define permission configurations:\u001b[39;00m\n\u001b[32m    177\u001b[39m \u001b[38;5;66;03m# each tuple contains (flag, setting, defaults)\u001b[39;00m\n\u001b[32m    178\u001b[39m perm_defs = [\n\u001b[32m    179\u001b[39m     (\u001b[33m\"\u001b[39m\u001b[33m--allow-env\u001b[39m\u001b[33m\"\u001b[39m, allow_env, \u001b[38;5;28;01mNone\u001b[39;00m),\n\u001b[32m    180\u001b[39m     \u001b[38;5;66;03m# For file system permissions, if no permission is specified,\u001b[39;00m\n\u001b[32m   (...)\u001b[39m\u001b[32m    186\u001b[39m     (\u001b[33m\"\u001b[39m\u001b[33m--allow-ffi\u001b[39m\u001b[33m\"\u001b[39m, allow_ffi, \u001b[38;5;28;01mNone\u001b[39;00m),\n\u001b[32m    187\u001b[39m ]\n",
      "\u001b[31mRuntimeError\u001b[39m: Deno is not installed or not in PATH."
     ]
    }
   ],
   "source": [
    "from langchain_sandbox import PyodideSandbox\n",
    "\n",
    "# Create a sandbox instance\n",
    "sandbox = PyodideSandbox(\n",
    "    # Allow Pyodide to install python packages that\n",
    "    # might be required.\n",
    "    allow_net=True,\n",
    ")\n",
    "code = \"\"\"\\\n",
    "import numpy as np\n",
    "x = np.array([1, 2, 3])\n",
    "print(x)\n",
    "\"\"\"\n",
    "\n",
    "# Execute Python code\n",
    "print(await sandbox.execute(code))\n",
    "\n",
    "# CodeExecutionResult(\n",
    "#   result=None, \n",
    "#   stdout='[1 2 3]', \n",
    "#   stderr=None, \n",
    "#   status='success', \n",
    "#   execution_time=2.8578367233276367,\n",
    "#   session_metadata={'created': '2025-05-15T21:26:37.204Z', 'lastModified': '2025-05-15T21:26:37.831Z', 'packages': ['numpy']},\n",
    "#   session_bytes=None\n",
    "# )"
   ]
  }
 ],
 "metadata": {
  "kernelspec": {
   "display_name": "venv_multiagent",
   "language": "python",
   "name": "python3"
  },
  "language_info": {
   "codemirror_mode": {
    "name": "ipython",
    "version": 3
   },
   "file_extension": ".py",
   "mimetype": "text/x-python",
   "name": "python",
   "nbconvert_exporter": "python",
   "pygments_lexer": "ipython3",
   "version": "3.11.6"
  }
 },
 "nbformat": 4,
 "nbformat_minor": 5
}
